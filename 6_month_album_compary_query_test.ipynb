{
 "cells": [
  {
   "cell_type": "code",
   "execution_count": 3,
   "metadata": {},
   "outputs": [],
   "source": [
    "import pandas as pd\n",
    "import numpy as np\n",
    "import seaborn as sns\n",
    "import matplotlib as mpl\n",
    "import matplotlib.pyplot as plt\n",
    "import win32com.client as win32\n",
    "import subprocess\n",
    "from pathlib import Path\n",
    "import base64\n",
    "import json\n",
    "from bs4 import BeautifulSoup\n",
    "import pandas_gbq as pbq\n",
    "\n",
    "pd.set_option('display.max_rows', None)"
   ]
  },
  {
   "cell_type": "markdown",
   "metadata": {},
   "source": [
    "### prelim_transactions \n",
    "- Duration: 3 min 14 sec  \n",
    "- Bytes processed: 1.41 TB    \n",
    "\n",
    "### combined_transactions\n",
    "- Duration: 8 sec\n",
    "- Bytes processed: 99.76 GB \n"
   ]
  },
  {
   "cell_type": "code",
   "execution_count": 13,
   "metadata": {},
   "outputs": [],
   "source": [
    "base_query = \"\"\"\n",
    "SELECT \n",
    "  b.master_artist,\n",
    "  b.r2_project_description,\n",
    "  a.sub_account_name as account,\n",
    "  a.product_type,\n",
    "  a.usage_type,\n",
    "  a.usage_group,\n",
    "  a.transaction_date,\n",
    "  a.units,\n",
    "  a.album_adjusted_units\n",
    "FROM `umg-finance.consumption.prelim_transactions` as a\n",
    "JOIN (\n",
    "  SELECT \n",
    "    product_id,\n",
    "    release_album, \n",
    "    project_release_date, \n",
    "    master_artist, \n",
    "    r2_project_description\n",
    "  FROM `umg-finance.metadata.microstrategy_product` WHERE r2_project_number = '{r2_project_number}' \n",
    ") as b\n",
    "ON a.product_id = b.product_id\n",
    "WHERE transaction_date BETWEEN '{start_date}' AND '{end_date}'\n",
    "\"\"\"\n",
    "\n",
    "# query_roar_prelim = base_query.format(table='prelim_transactions')\n",
    "query_roar = base_query.format(\n",
    "  r2_project_number='007377515',\n",
    "  start_date = '2020-04-03',\n",
    "  end_date = '2020-10-03'\n",
    "  )\n",
    "query_burn = base_query.format(\n",
    "  r2_project_number='007426222',\n",
    "  start_date = '2022-04-08',\n",
    "  end_date = '2022-08-03'\n",
    "  )\n",
    "\n",
    "\n",
    "def pull_data(q):\n",
    "    df = pbq.read_gbq(q, project_id='umg-us')\n",
    "    return df\n",
    "\n"
   ]
  },
  {
   "cell_type": "code",
   "execution_count": 14,
   "metadata": {},
   "outputs": [
    {
     "name": "stderr",
     "output_type": "stream",
     "text": [
      "Downloading: 100%|██████████| 4146247/4146247 [03:55<00:00, 17631.87rows/s]\n",
      "Downloading: 100%|██████████| 1472105/1472105 [01:27<00:00, 16828.59rows/s]\n"
     ]
    }
   ],
   "source": [
    "# df_prelim = pull_data(query_roar_prelim)\n",
    "# df_prelim.to_pickle(r'C:\\Users\\KamilcS\\OneDrive - Universal Music Group\\projects\\ADHOC_ALBUMS_COMPARE\\data\\passion_roar_6month_preliminary_transactions.pkl')\n",
    "\n",
    "# df_prelim = pd.read_pickle('./data/passion_roar_6month_preliminary_transactions.pkl')\n",
    "# df_combined = pull_data(query_roar_combined)\n",
    "\n",
    "df_roar = pull_data(query_roar)\n",
    "df_burn = pull_data(query_burn)\n",
    "\n",
    "df_roar.to_pickle(r'C:\\Users\\KamilcS\\OneDrive - Universal Music Group\\projects\\ADHOC_ALBUMS_COMPARE\\data\\passion_roar_6month_prelim_transactions.pkl')\n",
    "df_burn.to_pickle(r'C:\\Users\\KamilcS\\OneDrive - Universal Music Group\\projects\\ADHOC_ALBUMS_COMPARE\\data\\passion_burn_6month_prelim_transactions.pkl')\n",
    "\n",
    "# df_roar = pd.read_pickle(r'C:\\Users\\KamilcS\\OneDrive - Universal Music Group\\projects\\ADHOC_ALBUMS_COMPARE\\data\\passion_roar_6month_combined_transactions.pkl')\n",
    "# df_burn = pd.read_pickle(r'C:\\Users\\KamilcS\\OneDrive - Universal Music Group\\projects\\ADHOC_ALBUMS_COMPARE\\data\\passion_burn_6month_combined_transactions.pkl')"
   ]
  },
  {
   "cell_type": "code",
   "execution_count": 10,
   "metadata": {},
   "outputs": [
    {
     "data": {
      "text/html": [
       "<div>\n",
       "<style scoped>\n",
       "    .dataframe tbody tr th:only-of-type {\n",
       "        vertical-align: middle;\n",
       "    }\n",
       "\n",
       "    .dataframe tbody tr th {\n",
       "        vertical-align: top;\n",
       "    }\n",
       "\n",
       "    .dataframe thead th {\n",
       "        text-align: right;\n",
       "    }\n",
       "</style>\n",
       "<table border=\"1\" class=\"dataframe\">\n",
       "  <thead>\n",
       "    <tr style=\"text-align: right;\">\n",
       "      <th></th>\n",
       "      <th>master_artist</th>\n",
       "      <th>r2_project_description</th>\n",
       "      <th>account</th>\n",
       "      <th>transaction_date</th>\n",
       "      <th>units</th>\n",
       "    </tr>\n",
       "  </thead>\n",
       "  <tbody>\n",
       "    <tr>\n",
       "      <th>0</th>\n",
       "      <td>Passion</td>\n",
       "      <td>Passion/Roar (Live)/LP10</td>\n",
       "      <td>google</td>\n",
       "      <td>2020-04-05</td>\n",
       "      <td>1</td>\n",
       "    </tr>\n",
       "    <tr>\n",
       "      <th>1</th>\n",
       "      <td>Passion</td>\n",
       "      <td>Passion/Roar (Live)/LP10</td>\n",
       "      <td>google</td>\n",
       "      <td>2020-04-05</td>\n",
       "      <td>3</td>\n",
       "    </tr>\n",
       "    <tr>\n",
       "      <th>2</th>\n",
       "      <td>Passion</td>\n",
       "      <td>Passion/Roar (Live)/LP10</td>\n",
       "      <td>rhapsody</td>\n",
       "      <td>2020-04-05</td>\n",
       "      <td>2</td>\n",
       "    </tr>\n",
       "    <tr>\n",
       "      <th>3</th>\n",
       "      <td>Passion</td>\n",
       "      <td>Passion/Roar (Live)/LP10</td>\n",
       "      <td>google</td>\n",
       "      <td>2020-04-05</td>\n",
       "      <td>1</td>\n",
       "    </tr>\n",
       "    <tr>\n",
       "      <th>4</th>\n",
       "      <td>Passion</td>\n",
       "      <td>Passion/Roar (Live)/LP10</td>\n",
       "      <td>rhapsody</td>\n",
       "      <td>2020-04-05</td>\n",
       "      <td>1</td>\n",
       "    </tr>\n",
       "  </tbody>\n",
       "</table>\n",
       "</div>"
      ],
      "text/plain": [
       "  master_artist    r2_project_description   account transaction_date  units\n",
       "0       Passion  Passion/Roar (Live)/LP10    google       2020-04-05      1\n",
       "1       Passion  Passion/Roar (Live)/LP10    google       2020-04-05      3\n",
       "2       Passion  Passion/Roar (Live)/LP10  rhapsody       2020-04-05      2\n",
       "3       Passion  Passion/Roar (Live)/LP10    google       2020-04-05      1\n",
       "4       Passion  Passion/Roar (Live)/LP10  rhapsody       2020-04-05      1"
      ]
     },
     "execution_count": 10,
     "metadata": {},
     "output_type": "execute_result"
    }
   ],
   "source": [
    "df_prelim.head()"
   ]
  },
  {
   "cell_type": "code",
   "execution_count": 8,
   "metadata": {},
   "outputs": [],
   "source": [
    "def prepare_data(df):\n",
    "\n",
    "    df['account'] = df['account'].str.lower()\n",
    "    df['raw_streams'] = np.where(\n",
    "        df['usage_group'].str.contains('Streaming', regex=False), df['units'], 0\n",
    "    )\n",
    "    df['master_album'] = df['r2_project_description'].apply(lambda x: x.split('/')[-1])\n",
    "\n",
    "    df = df.groupby(['transaction_date', 'master_album']).agg({\n",
    "        'units': sum,\n",
    "        'album_adjusted_units' : sum,\n",
    "        'raw_streams': sum,\n",
    "\n",
    "    }).sort_index().reset_index()\n",
    "\n",
    "    df.index = df.index + 1\n",
    "\n",
    "    df.index.name = 'days_post_release'\n",
    "\n",
    "    # df = df.reset_index()\n",
    "\n",
    "    return df"
   ]
  },
  {
   "cell_type": "code",
   "execution_count": null,
   "metadata": {},
   "outputs": [],
   "source": [
    "df_prelim.head()"
   ]
  },
  {
   "cell_type": "code",
   "execution_count": 9,
   "metadata": {},
   "outputs": [
    {
     "ename": "KeyError",
     "evalue": "'usage_group'",
     "output_type": "error",
     "traceback": [
      "\u001b[1;31m---------------------------------------------------------------------------\u001b[0m",
      "\u001b[1;31mKeyError\u001b[0m                                  Traceback (most recent call last)",
      "File \u001b[1;32mc:\\Users\\KamilcS\\Miniconda3\\envs\\env1\\lib\\site-packages\\pandas\\core\\indexes\\base.py:3621\u001b[0m, in \u001b[0;36mIndex.get_loc\u001b[1;34m(self, key, method, tolerance)\u001b[0m\n\u001b[0;32m   3620\u001b[0m \u001b[39mtry\u001b[39;00m:\n\u001b[1;32m-> 3621\u001b[0m     \u001b[39mreturn\u001b[39;00m \u001b[39mself\u001b[39;49m\u001b[39m.\u001b[39;49m_engine\u001b[39m.\u001b[39;49mget_loc(casted_key)\n\u001b[0;32m   3622\u001b[0m \u001b[39mexcept\u001b[39;00m \u001b[39mKeyError\u001b[39;00m \u001b[39mas\u001b[39;00m err:\n",
      "File \u001b[1;32mc:\\Users\\KamilcS\\Miniconda3\\envs\\env1\\lib\\site-packages\\pandas\\_libs\\index.pyx:136\u001b[0m, in \u001b[0;36mpandas._libs.index.IndexEngine.get_loc\u001b[1;34m()\u001b[0m\n",
      "File \u001b[1;32mc:\\Users\\KamilcS\\Miniconda3\\envs\\env1\\lib\\site-packages\\pandas\\_libs\\index.pyx:163\u001b[0m, in \u001b[0;36mpandas._libs.index.IndexEngine.get_loc\u001b[1;34m()\u001b[0m\n",
      "File \u001b[1;32mpandas\\_libs\\hashtable_class_helper.pxi:5198\u001b[0m, in \u001b[0;36mpandas._libs.hashtable.PyObjectHashTable.get_item\u001b[1;34m()\u001b[0m\n",
      "File \u001b[1;32mpandas\\_libs\\hashtable_class_helper.pxi:5206\u001b[0m, in \u001b[0;36mpandas._libs.hashtable.PyObjectHashTable.get_item\u001b[1;34m()\u001b[0m\n",
      "\u001b[1;31mKeyError\u001b[0m: 'usage_group'",
      "\nThe above exception was the direct cause of the following exception:\n",
      "\u001b[1;31mKeyError\u001b[0m                                  Traceback (most recent call last)",
      "\u001b[1;32mc:\\Users\\KamilcS\\OneDrive - Universal Music Group\\projects\\ADHOC_ALBUMS_COMPARE\\6_month_album_compary_query_test.ipynb Cell 7\u001b[0m in \u001b[0;36m<cell line: 1>\u001b[1;34m()\u001b[0m\n\u001b[1;32m----> <a href='vscode-notebook-cell:/c%3A/Users/KamilcS/OneDrive%20-%20Universal%20Music%20Group/projects/ADHOC_ALBUMS_COMPARE/6_month_album_compary_query_test.ipynb#ch0000006?line=0'>1</a>\u001b[0m df_roar \u001b[39m=\u001b[39m prepare_data(df_prelim)\n\u001b[0;32m      <a href='vscode-notebook-cell:/c%3A/Users/KamilcS/OneDrive%20-%20Universal%20Music%20Group/projects/ADHOC_ALBUMS_COMPARE/6_month_album_compary_query_test.ipynb#ch0000006?line=2'>3</a>\u001b[0m df_burn \u001b[39m=\u001b[39m prepare_data(pd\u001b[39m.\u001b[39mread_pickle(\u001b[39mr\u001b[39m\u001b[39m'\u001b[39m\u001b[39mC:\u001b[39m\u001b[39m\\\u001b[39m\u001b[39mUsers\u001b[39m\u001b[39m\\\u001b[39m\u001b[39mKamilcS\u001b[39m\u001b[39m\\\u001b[39m\u001b[39mOneDrive - Universal Music Group\u001b[39m\u001b[39m\\\u001b[39m\u001b[39mprojects\u001b[39m\u001b[39m\\\u001b[39m\u001b[39mADHOC_ALBUMS_COMPARE\u001b[39m\u001b[39m\\\u001b[39m\u001b[39mdata\u001b[39m\u001b[39m\\\u001b[39m\u001b[39mpassion_burn_6month_combined_transactions.pkl\u001b[39m\u001b[39m'\u001b[39m))\n",
      "\u001b[1;32mc:\\Users\\KamilcS\\OneDrive - Universal Music Group\\projects\\ADHOC_ALBUMS_COMPARE\\6_month_album_compary_query_test.ipynb Cell 7\u001b[0m in \u001b[0;36mprepare_data\u001b[1;34m(df)\u001b[0m\n\u001b[0;32m      <a href='vscode-notebook-cell:/c%3A/Users/KamilcS/OneDrive%20-%20Universal%20Music%20Group/projects/ADHOC_ALBUMS_COMPARE/6_month_album_compary_query_test.ipynb#ch0000006?line=0'>1</a>\u001b[0m \u001b[39mdef\u001b[39;00m \u001b[39mprepare_data\u001b[39m(df):\n\u001b[0;32m      <a href='vscode-notebook-cell:/c%3A/Users/KamilcS/OneDrive%20-%20Universal%20Music%20Group/projects/ADHOC_ALBUMS_COMPARE/6_month_album_compary_query_test.ipynb#ch0000006?line=2'>3</a>\u001b[0m     df[\u001b[39m'\u001b[39m\u001b[39maccount\u001b[39m\u001b[39m'\u001b[39m] \u001b[39m=\u001b[39m df[\u001b[39m'\u001b[39m\u001b[39maccount\u001b[39m\u001b[39m'\u001b[39m]\u001b[39m.\u001b[39mstr\u001b[39m.\u001b[39mlower()\n\u001b[0;32m      <a href='vscode-notebook-cell:/c%3A/Users/KamilcS/OneDrive%20-%20Universal%20Music%20Group/projects/ADHOC_ALBUMS_COMPARE/6_month_album_compary_query_test.ipynb#ch0000006?line=3'>4</a>\u001b[0m     df[\u001b[39m'\u001b[39m\u001b[39mraw_streams\u001b[39m\u001b[39m'\u001b[39m] \u001b[39m=\u001b[39m np\u001b[39m.\u001b[39mwhere(\n\u001b[1;32m----> <a href='vscode-notebook-cell:/c%3A/Users/KamilcS/OneDrive%20-%20Universal%20Music%20Group/projects/ADHOC_ALBUMS_COMPARE/6_month_album_compary_query_test.ipynb#ch0000006?line=4'>5</a>\u001b[0m         df[\u001b[39m'\u001b[39;49m\u001b[39musage_group\u001b[39;49m\u001b[39m'\u001b[39;49m]\u001b[39m.\u001b[39mstr\u001b[39m.\u001b[39mcontains(\u001b[39m'\u001b[39m\u001b[39mStreaming\u001b[39m\u001b[39m'\u001b[39m, regex\u001b[39m=\u001b[39m\u001b[39mFalse\u001b[39;00m), df[\u001b[39m'\u001b[39m\u001b[39munits\u001b[39m\u001b[39m'\u001b[39m], \u001b[39m0\u001b[39m\n\u001b[0;32m      <a href='vscode-notebook-cell:/c%3A/Users/KamilcS/OneDrive%20-%20Universal%20Music%20Group/projects/ADHOC_ALBUMS_COMPARE/6_month_album_compary_query_test.ipynb#ch0000006?line=5'>6</a>\u001b[0m     )\n\u001b[0;32m      <a href='vscode-notebook-cell:/c%3A/Users/KamilcS/OneDrive%20-%20Universal%20Music%20Group/projects/ADHOC_ALBUMS_COMPARE/6_month_album_compary_query_test.ipynb#ch0000006?line=6'>7</a>\u001b[0m     df[\u001b[39m'\u001b[39m\u001b[39mmaster_album\u001b[39m\u001b[39m'\u001b[39m] \u001b[39m=\u001b[39m df[\u001b[39m'\u001b[39m\u001b[39mr2_project_description\u001b[39m\u001b[39m'\u001b[39m]\u001b[39m.\u001b[39mapply(\u001b[39mlambda\u001b[39;00m x: x\u001b[39m.\u001b[39msplit(\u001b[39m'\u001b[39m\u001b[39m/\u001b[39m\u001b[39m'\u001b[39m)[\u001b[39m-\u001b[39m\u001b[39m1\u001b[39m])\n\u001b[0;32m      <a href='vscode-notebook-cell:/c%3A/Users/KamilcS/OneDrive%20-%20Universal%20Music%20Group/projects/ADHOC_ALBUMS_COMPARE/6_month_album_compary_query_test.ipynb#ch0000006?line=8'>9</a>\u001b[0m     df \u001b[39m=\u001b[39m df\u001b[39m.\u001b[39mgroupby([\u001b[39m'\u001b[39m\u001b[39mtransaction_date\u001b[39m\u001b[39m'\u001b[39m, \u001b[39m'\u001b[39m\u001b[39mmaster_album\u001b[39m\u001b[39m'\u001b[39m])\u001b[39m.\u001b[39magg({\n\u001b[0;32m     <a href='vscode-notebook-cell:/c%3A/Users/KamilcS/OneDrive%20-%20Universal%20Music%20Group/projects/ADHOC_ALBUMS_COMPARE/6_month_album_compary_query_test.ipynb#ch0000006?line=9'>10</a>\u001b[0m         \u001b[39m'\u001b[39m\u001b[39munits\u001b[39m\u001b[39m'\u001b[39m: \u001b[39msum\u001b[39m,\n\u001b[0;32m     <a href='vscode-notebook-cell:/c%3A/Users/KamilcS/OneDrive%20-%20Universal%20Music%20Group/projects/ADHOC_ALBUMS_COMPARE/6_month_album_compary_query_test.ipynb#ch0000006?line=10'>11</a>\u001b[0m         \u001b[39m'\u001b[39m\u001b[39malbum_adjusted_units\u001b[39m\u001b[39m'\u001b[39m : \u001b[39msum\u001b[39m,\n\u001b[0;32m     <a href='vscode-notebook-cell:/c%3A/Users/KamilcS/OneDrive%20-%20Universal%20Music%20Group/projects/ADHOC_ALBUMS_COMPARE/6_month_album_compary_query_test.ipynb#ch0000006?line=11'>12</a>\u001b[0m         \u001b[39m'\u001b[39m\u001b[39mraw_streams\u001b[39m\u001b[39m'\u001b[39m: \u001b[39msum\u001b[39m,\n\u001b[0;32m     <a href='vscode-notebook-cell:/c%3A/Users/KamilcS/OneDrive%20-%20Universal%20Music%20Group/projects/ADHOC_ALBUMS_COMPARE/6_month_album_compary_query_test.ipynb#ch0000006?line=12'>13</a>\u001b[0m \n\u001b[0;32m     <a href='vscode-notebook-cell:/c%3A/Users/KamilcS/OneDrive%20-%20Universal%20Music%20Group/projects/ADHOC_ALBUMS_COMPARE/6_month_album_compary_query_test.ipynb#ch0000006?line=13'>14</a>\u001b[0m     })\u001b[39m.\u001b[39msort_index()\u001b[39m.\u001b[39mreset_index()\n",
      "File \u001b[1;32mc:\\Users\\KamilcS\\Miniconda3\\envs\\env1\\lib\\site-packages\\pandas\\core\\frame.py:3505\u001b[0m, in \u001b[0;36mDataFrame.__getitem__\u001b[1;34m(self, key)\u001b[0m\n\u001b[0;32m   3503\u001b[0m \u001b[39mif\u001b[39;00m \u001b[39mself\u001b[39m\u001b[39m.\u001b[39mcolumns\u001b[39m.\u001b[39mnlevels \u001b[39m>\u001b[39m \u001b[39m1\u001b[39m:\n\u001b[0;32m   3504\u001b[0m     \u001b[39mreturn\u001b[39;00m \u001b[39mself\u001b[39m\u001b[39m.\u001b[39m_getitem_multilevel(key)\n\u001b[1;32m-> 3505\u001b[0m indexer \u001b[39m=\u001b[39m \u001b[39mself\u001b[39;49m\u001b[39m.\u001b[39;49mcolumns\u001b[39m.\u001b[39;49mget_loc(key)\n\u001b[0;32m   3506\u001b[0m \u001b[39mif\u001b[39;00m is_integer(indexer):\n\u001b[0;32m   3507\u001b[0m     indexer \u001b[39m=\u001b[39m [indexer]\n",
      "File \u001b[1;32mc:\\Users\\KamilcS\\Miniconda3\\envs\\env1\\lib\\site-packages\\pandas\\core\\indexes\\base.py:3623\u001b[0m, in \u001b[0;36mIndex.get_loc\u001b[1;34m(self, key, method, tolerance)\u001b[0m\n\u001b[0;32m   3621\u001b[0m     \u001b[39mreturn\u001b[39;00m \u001b[39mself\u001b[39m\u001b[39m.\u001b[39m_engine\u001b[39m.\u001b[39mget_loc(casted_key)\n\u001b[0;32m   3622\u001b[0m \u001b[39mexcept\u001b[39;00m \u001b[39mKeyError\u001b[39;00m \u001b[39mas\u001b[39;00m err:\n\u001b[1;32m-> 3623\u001b[0m     \u001b[39mraise\u001b[39;00m \u001b[39mKeyError\u001b[39;00m(key) \u001b[39mfrom\u001b[39;00m \u001b[39merr\u001b[39;00m\n\u001b[0;32m   3624\u001b[0m \u001b[39mexcept\u001b[39;00m \u001b[39mTypeError\u001b[39;00m:\n\u001b[0;32m   3625\u001b[0m     \u001b[39m# If we have a listlike key, _check_indexing_error will raise\u001b[39;00m\n\u001b[0;32m   3626\u001b[0m     \u001b[39m#  InvalidIndexError. Otherwise we fall through and re-raise\u001b[39;00m\n\u001b[0;32m   3627\u001b[0m     \u001b[39m#  the TypeError.\u001b[39;00m\n\u001b[0;32m   3628\u001b[0m     \u001b[39mself\u001b[39m\u001b[39m.\u001b[39m_check_indexing_error(key)\n",
      "\u001b[1;31mKeyError\u001b[0m: 'usage_group'"
     ]
    }
   ],
   "source": [
    "df_roar = prepare_data(df_prelim)\n",
    "\n",
    "df_burn = prepare_data(pd.read_pickle(r'C:\\Users\\KamilcS\\OneDrive - Universal Music Group\\projects\\ADHOC_ALBUMS_COMPARE\\data\\passion_burn_6month_combined_transactions.pkl'))\n"
   ]
  },
  {
   "cell_type": "code",
   "execution_count": null,
   "metadata": {},
   "outputs": [],
   "source": [
    "joined = pd.concat([df_roar, df_burn]).reset_index()\n",
    "joined.head(50)"
   ]
  },
  {
   "cell_type": "code",
   "execution_count": null,
   "metadata": {},
   "outputs": [],
   "source": [
    "fig, ax = plt.subplots(figsize=(18, 9), dpi=150)\n",
    "\n",
    "raw_streams_roar = joined.query('master_album == \"LP10\"')['Raw Streams'].sum()\n",
    "raw_streams_burn = joined.query('master_album == \"LP12\"')['Raw Streams'].sum()\n",
    "\n",
    "fig.suptitle('Passion Raw Streams by LP', size = 40, weight=\"bold\", y=1.03, x=0.52)\n",
    "sns.lineplot(\n",
    "    data=joined, \n",
    "    # x='Weeks Post Release', \n",
    "    x = 'Days Post Release',\n",
    "    y='Raw Streams', \n",
    "    hue='Master Album', \n",
    "    ax=ax,\n",
    "    linewidth = 2,\n",
    "    \n",
    ").set(\n",
    "    # xlabel='Weeks Post Release',\n",
    "    xlabel='Days Post Release',\n",
    "    ylabel='Raw Stream Units [k]',\n",
    "    title=f'Roar       : {raw_streams_roar:,.0f}\\nBurn Bright: {raw_streams_burn:,.0f}'\n",
    "    # ylabel='Raw Streams'\n",
    "    )\n",
    "\n",
    "\n",
    "ylabels = [\n",
    "    '{:,.0f}'.format(x) for x in ax.get_yticks() \n",
    "    /1000\n",
    "    ]\n",
    "\n",
    "sns.despine(left=True)\n",
    "ax.set_yticklabels(ylabels)"
   ]
  },
  {
   "cell_type": "code",
   "execution_count": null,
   "metadata": {},
   "outputs": [],
   "source": [
    "df_burn.head()"
   ]
  },
  {
   "cell_type": "code",
   "execution_count": null,
   "metadata": {},
   "outputs": [],
   "source": [
    "print(df_roar.groupby('account')['units'].sum().sum())\n",
    "print(df_burn.groupby('account')['units'].sum().sum())"
   ]
  },
  {
   "cell_type": "code",
   "execution_count": null,
   "metadata": {},
   "outputs": [],
   "source": [
    "print(df_roar.usage_group.unique())\n",
    "print(df_burn.usage_group.unique())"
   ]
  },
  {
   "cell_type": "code",
   "execution_count": null,
   "metadata": {},
   "outputs": [],
   "source": [
    "print(df_roar.product_type.unique())\n",
    "print(df_burn.product_type.unique())"
   ]
  },
  {
   "cell_type": "code",
   "execution_count": null,
   "metadata": {},
   "outputs": [],
   "source": [
    "raw_streams_roar = df_roar.query('usage_group == \"(LP10) Roar\"')['Raw Streams'].sum()\n",
    "raw_streams_burn = df_burn.query('usage_group == \"(LP12) Burn Bright\"')['Raw Streams'].sum()"
   ]
  },
  {
   "cell_type": "code",
   "execution_count": null,
   "metadata": {},
   "outputs": [],
   "source": [
    "df_roar.master_artist.unique()"
   ]
  },
  {
   "cell_type": "code",
   "execution_count": null,
   "metadata": {},
   "outputs": [],
   "source": [
    "df_burn.master_artist.unique()"
   ]
  },
  {
   "cell_type": "code",
   "execution_count": null,
   "metadata": {},
   "outputs": [],
   "source": []
  }
 ],
 "metadata": {
  "kernelspec": {
   "display_name": "Python 3.10.4 ('env1')",
   "language": "python",
   "name": "python3"
  },
  "language_info": {
   "codemirror_mode": {
    "name": "ipython",
    "version": 3
   },
   "file_extension": ".py",
   "mimetype": "text/x-python",
   "name": "python",
   "nbconvert_exporter": "python",
   "pygments_lexer": "ipython3",
   "version": "3.10.4"
  },
  "orig_nbformat": 4,
  "vscode": {
   "interpreter": {
    "hash": "2a2ca3a7ba00b44e50730eb7319b824f39d91371480057f2b3358699b89f91c0"
   }
  }
 },
 "nbformat": 4,
 "nbformat_minor": 2
}
